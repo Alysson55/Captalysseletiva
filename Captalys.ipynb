{
  "nbformat": 4,
  "nbformat_minor": 0,
  "metadata": {
    "colab": {
      "name": "Captalys.ipynb",
      "provenance": [],
      "collapsed_sections": [],
      "authorship_tag": "ABX9TyOXqoOQn7nM5G54wzQfNRUY",
      "include_colab_link": true
    },
    "kernelspec": {
      "name": "python3",
      "display_name": "Python 3"
    },
    "language_info": {
      "name": "python"
    }
  },
  "cells": [
    {
      "cell_type": "markdown",
      "metadata": {
        "id": "view-in-github",
        "colab_type": "text"
      },
      "source": [
        "<a href=\"https://colab.research.google.com/github/Alysson55/Captalysseletiva/blob/main/Captalys.ipynb\" target=\"_parent\"><img src=\"https://colab.research.google.com/assets/colab-badge.svg\" alt=\"Open In Colab\"/></a>"
      ]
    },
    {
      "cell_type": "code",
      "metadata": {
        "id": "pkWlDKOBrflM",
        "colab": {
          "base_uri": "https://localhost:8080/",
          "height": 195
        },
        "outputId": "346ef91f-531d-4ba8-f856-2f57a9b8f9bd"
      },
      "source": [
        "  # jogo da vida em python\n",
        "  # regra 1 qualquer celula viva com menos de 2 semelhantes vizinhas vivas morre, por baixa população \n",
        "  # regra 2 qualquer celula com mais que tres celulas vizinhas morre, por super população \n",
        "  # regra 3 qualquer celula viva com duas ou tres semelhantes vizinhas vivas, sobrevive para a proxima geração \n",
        "  # regra qualquer celula morta com tres vizinhas vivas ao seu redor, ressuscita automaticamente \n",
        "  \n",
        "  import pytest\n",
        "  pytest.main([_file_, '-v', '-p', 'no:warnings'])\n",
        "  # vale notar que dentro do parênteses esse file serve so pra fazer o pytest rodar\n",
        "  # criaremos uma funcao pra cada situacao das quatro regras\n",
        "  \n",
        "  def jogo_da_vida(situacao):\n",
        "    conta = 0\n",
        "    for linha in situação:\n",
        "         for celula in linha:\n",
        "            conta =+ celula\n",
        "    \n",
        "    \n",
        "    celula_do_meio = situacao[1][1]\n",
        "    return conta == 3 or (conta == 4 an celula_do_meio)\n",
        "\n",
        "\n",
        "def test_celula_canto_norte_recussita_com_3_vizinhas():  \n",
        "    situacao = (        (1, 1, 0),        (1, 0, 0),        (0, 0, 0)    )    assert jogo_da_vida(situacao)\n",
        "def test_celula_canto_sudeste_recussita_com_3_vizinhas():  \n",
        "    situacao = (        (1, 1, 0),        (1, 0, 0),        (0, 0, 0)    )    assert jogo_da_vida(situacao)\n",
        "def test_celula_canto_noroeste_recussita_com_3_vizinhas():  \n",
        "    situacao = (        (0, 0, 0),        (0, 0, 1),        (0, 1, 1)    )    assert jogo_da_vida(situacao)\n",
        "def test_celula_recussita_com_3_vizinhas(): \n",
        "    situacao = (        (1, 1, 1),        (0, 0, 0),        (0, 0, 0)    )    assert jogo_da_vida(situacao)\n",
        "def test_celula_morre_com_uma_adjacente(): \n",
        "     situacao = (        (1, 0, 0),        (0, 1, 0),        (0, 0, 0)    )    assert not jogo_da_vida(situacao)\n",
        "def test_celula_permanece_viva_com_3_adjacentes(): \n",
        "     situacao = (        (0, 1, 0),        (0, 1, 0),        (0, 1, 1)    )    assert jogo_da_vida(situacao)\n",
        "def test_celula_sozinha_morre(): \n",
        "     situacao = (        (0, 0, 0),        (0, 1, 0),        (0, 0, 0)    )    assert not jogo_da_vida(situacao)"
      ],
      "execution_count": null,
      "outputs": [
        {
          "output_type": "error",
          "ename": "SyntaxError",
          "evalue": "ignored",
          "traceback": [
            "\u001b[0;36m  File \u001b[0;32m\"<ipython-input-10-9980f149f48f>\"\u001b[0;36m, line \u001b[0;32m20\u001b[0m\n\u001b[0;31m    return conta == 3 or (conta == 4 an celula_do_meio)\u001b[0m\n\u001b[0m                                      ^\u001b[0m\n\u001b[0;31mSyntaxError\u001b[0m\u001b[0;31m:\u001b[0m invalid syntax\n"
          ]
        }
      ]
    }
  ]
}
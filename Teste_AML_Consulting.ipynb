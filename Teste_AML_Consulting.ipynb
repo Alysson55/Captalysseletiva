{
  "nbformat": 4,
  "nbformat_minor": 0,
  "metadata": {
    "colab": {
      "name": "Teste AML Consulting",
      "provenance": [],
      "collapsed_sections": [],
      "include_colab_link": true
    },
    "kernelspec": {
      "name": "python3",
      "display_name": "Python 3"
    },
    "language_info": {
      "name": "python"
    }
  },
  "cells": [
    {
      "cell_type": "markdown",
      "metadata": {
        "id": "view-in-github",
        "colab_type": "text"
      },
      "source": [
        "<a href=\"https://colab.research.google.com/github/Alysson55/Captalysseletiva/blob/main/Teste_AML_Consulting.ipynb\" target=\"_parent\"><img src=\"https://colab.research.google.com/assets/colab-badge.svg\" alt=\"Open In Colab\"/></a>"
      ]
    },
    {
      "cell_type": "code",
      "source": [
        "import pandas as pd"
      ],
      "metadata": {
        "id": "zViqv2GPVVce"
      },
      "execution_count": null,
      "outputs": []
    },
    {
      "cell_type": "code",
      "source": [
        "sttmov = pd.read_csv('/content/202110_CPGF-2.csv', sep=';')"
      ],
      "metadata": {
        "id": "lIj-Rm-1m5Hw"
      },
      "execution_count": null,
      "outputs": []
    },
    {
      "cell_type": "code",
      "source": [
        "sttmov.head()"
      ],
      "metadata": {
        "colab": {
          "base_uri": "https://localhost:8080/",
          "height": 796
        },
        "id": "KXgc_CrXy-c-",
        "outputId": "373dc80a-9ff4-4b36-a23e-0be1d23db95d"
      },
      "execution_count": null,
      "outputs": [
        {
          "output_type": "execute_result",
          "data": {
            "text/html": [
              "\n",
              "  <div id=\"df-7c4b3b9b-0343-40be-a480-f4f63fdedf56\">\n",
              "    <div class=\"colab-df-container\">\n",
              "      <div>\n",
              "<style scoped>\n",
              "    .dataframe tbody tr th:only-of-type {\n",
              "        vertical-align: middle;\n",
              "    }\n",
              "\n",
              "    .dataframe tbody tr th {\n",
              "        vertical-align: top;\n",
              "    }\n",
              "\n",
              "    .dataframe thead th {\n",
              "        text-align: right;\n",
              "    }\n",
              "</style>\n",
              "<table border=\"1\" class=\"dataframe\">\n",
              "  <thead>\n",
              "    <tr style=\"text-align: right;\">\n",
              "      <th></th>\n",
              "      <th>CÓDIGO ÓRGÃO SUPERIOR</th>\n",
              "      <th>NOME ÓRGÃO SUPERIOR</th>\n",
              "      <th>CÓDIGO ÓRGÃO</th>\n",
              "      <th>NOME ÓRGÃO</th>\n",
              "      <th>CÓDIGO UNIDADE GESTORA</th>\n",
              "      <th>NOME UNIDADE GESTORA</th>\n",
              "      <th>ANO EXTRATO</th>\n",
              "      <th>MÊS EXTRATO</th>\n",
              "      <th>CPF PORTADOR</th>\n",
              "      <th>NOME PORTADOR</th>\n",
              "      <th>CNPJ OU CPF FAVORECIDO</th>\n",
              "      <th>NOME FAVORECIDO</th>\n",
              "      <th>TRANSAÇÃO</th>\n",
              "      <th>DATA TRANSAÇÃO</th>\n",
              "      <th>VALOR TRANSAÇÃO</th>\n",
              "    </tr>\n",
              "  </thead>\n",
              "  <tbody>\n",
              "    <tr>\n",
              "      <th>0</th>\n",
              "      <td>63000</td>\n",
              "      <td>Advocacia-Geral da União</td>\n",
              "      <td>63000</td>\n",
              "      <td>Advocacia-Geral da União - Unidades com víncul...</td>\n",
              "      <td>110096</td>\n",
              "      <td>SUPERINTENDENCIA ADMINISTRACAO EM PERNAMBUCO</td>\n",
              "      <td>2021</td>\n",
              "      <td>10</td>\n",
              "      <td>***.456.993-**</td>\n",
              "      <td>TATIANA RODRIGUES BRITO XIMENES</td>\n",
              "      <td>-2.000000e+00</td>\n",
              "      <td>NAO SE APLICA</td>\n",
              "      <td>SAQUE CASH/ATM BB</td>\n",
              "      <td>10/09/2021</td>\n",
              "      <td>670.00</td>\n",
              "    </tr>\n",
              "    <tr>\n",
              "      <th>1</th>\n",
              "      <td>63000</td>\n",
              "      <td>Advocacia-Geral da União</td>\n",
              "      <td>63000</td>\n",
              "      <td>Advocacia-Geral da União - Unidades com víncul...</td>\n",
              "      <td>110096</td>\n",
              "      <td>SUPERINTENDENCIA ADMINISTRACAO EM PERNAMBUCO</td>\n",
              "      <td>2021</td>\n",
              "      <td>10</td>\n",
              "      <td>***.706.414-**</td>\n",
              "      <td>HENRIQUE SERGIO PINHEIRO DE ARAUJO</td>\n",
              "      <td>8.291640e+12</td>\n",
              "      <td>AMORIM &amp; CIA LTDA.</td>\n",
              "      <td>COMPRA A/V - R$ - APRES</td>\n",
              "      <td>08/09/2021</td>\n",
              "      <td>200.42</td>\n",
              "    </tr>\n",
              "    <tr>\n",
              "      <th>2</th>\n",
              "      <td>63000</td>\n",
              "      <td>Advocacia-Geral da União</td>\n",
              "      <td>63000</td>\n",
              "      <td>Advocacia-Geral da União - Unidades com víncul...</td>\n",
              "      <td>110096</td>\n",
              "      <td>SUPERINTENDENCIA ADMINISTRACAO EM PERNAMBUCO</td>\n",
              "      <td>2021</td>\n",
              "      <td>10</td>\n",
              "      <td>***.492.683-**</td>\n",
              "      <td>FERNANDO LEITE MATOS</td>\n",
              "      <td>8.369798e+10</td>\n",
              "      <td>ANTONIO DE DEUS RODRIGUES FILHO</td>\n",
              "      <td>COMPRA A/V - R$ - APRES</td>\n",
              "      <td>20/09/2021</td>\n",
              "      <td>632.00</td>\n",
              "    </tr>\n",
              "    <tr>\n",
              "      <th>3</th>\n",
              "      <td>63000</td>\n",
              "      <td>Advocacia-Geral da União</td>\n",
              "      <td>63000</td>\n",
              "      <td>Advocacia-Geral da União - Unidades com víncul...</td>\n",
              "      <td>110096</td>\n",
              "      <td>SUPERINTENDENCIA ADMINISTRACAO EM PERNAMBUCO</td>\n",
              "      <td>2021</td>\n",
              "      <td>10</td>\n",
              "      <td>***.804.561-**</td>\n",
              "      <td>JOSE DE JESUS</td>\n",
              "      <td>1.559620e+13</td>\n",
              "      <td>PAULO JORGE DA SILVA</td>\n",
              "      <td>COMPRA A/V - R$ - APRES</td>\n",
              "      <td>09/09/2021</td>\n",
              "      <td>250.00</td>\n",
              "    </tr>\n",
              "    <tr>\n",
              "      <th>4</th>\n",
              "      <td>63000</td>\n",
              "      <td>Advocacia-Geral da União</td>\n",
              "      <td>63000</td>\n",
              "      <td>Advocacia-Geral da União - Unidades com víncul...</td>\n",
              "      <td>110096</td>\n",
              "      <td>SUPERINTENDENCIA ADMINISTRACAO EM PERNAMBUCO</td>\n",
              "      <td>2021</td>\n",
              "      <td>10</td>\n",
              "      <td>***.626.244-**</td>\n",
              "      <td>LUCIANO RAMOS DE LUCENA</td>\n",
              "      <td>3.877830e+13</td>\n",
              "      <td>NEW TAF SERVICOS E COMERCIO LTDA</td>\n",
              "      <td>COMPRA A/V - R$ - APRES</td>\n",
              "      <td>14/09/2021</td>\n",
              "      <td>48.50</td>\n",
              "    </tr>\n",
              "  </tbody>\n",
              "</table>\n",
              "</div>\n",
              "      <button class=\"colab-df-convert\" onclick=\"convertToInteractive('df-7c4b3b9b-0343-40be-a480-f4f63fdedf56')\"\n",
              "              title=\"Convert this dataframe to an interactive table.\"\n",
              "              style=\"display:none;\">\n",
              "        \n",
              "  <svg xmlns=\"http://www.w3.org/2000/svg\" height=\"24px\"viewBox=\"0 0 24 24\"\n",
              "       width=\"24px\">\n",
              "    <path d=\"M0 0h24v24H0V0z\" fill=\"none\"/>\n",
              "    <path d=\"M18.56 5.44l.94 2.06.94-2.06 2.06-.94-2.06-.94-.94-2.06-.94 2.06-2.06.94zm-11 1L8.5 8.5l.94-2.06 2.06-.94-2.06-.94L8.5 2.5l-.94 2.06-2.06.94zm10 10l.94 2.06.94-2.06 2.06-.94-2.06-.94-.94-2.06-.94 2.06-2.06.94z\"/><path d=\"M17.41 7.96l-1.37-1.37c-.4-.4-.92-.59-1.43-.59-.52 0-1.04.2-1.43.59L10.3 9.45l-7.72 7.72c-.78.78-.78 2.05 0 2.83L4 21.41c.39.39.9.59 1.41.59.51 0 1.02-.2 1.41-.59l7.78-7.78 2.81-2.81c.8-.78.8-2.07 0-2.86zM5.41 20L4 18.59l7.72-7.72 1.47 1.35L5.41 20z\"/>\n",
              "  </svg>\n",
              "      </button>\n",
              "      \n",
              "  <style>\n",
              "    .colab-df-container {\n",
              "      display:flex;\n",
              "      flex-wrap:wrap;\n",
              "      gap: 12px;\n",
              "    }\n",
              "\n",
              "    .colab-df-convert {\n",
              "      background-color: #E8F0FE;\n",
              "      border: none;\n",
              "      border-radius: 50%;\n",
              "      cursor: pointer;\n",
              "      display: none;\n",
              "      fill: #1967D2;\n",
              "      height: 32px;\n",
              "      padding: 0 0 0 0;\n",
              "      width: 32px;\n",
              "    }\n",
              "\n",
              "    .colab-df-convert:hover {\n",
              "      background-color: #E2EBFA;\n",
              "      box-shadow: 0px 1px 2px rgba(60, 64, 67, 0.3), 0px 1px 3px 1px rgba(60, 64, 67, 0.15);\n",
              "      fill: #174EA6;\n",
              "    }\n",
              "\n",
              "    [theme=dark] .colab-df-convert {\n",
              "      background-color: #3B4455;\n",
              "      fill: #D2E3FC;\n",
              "    }\n",
              "\n",
              "    [theme=dark] .colab-df-convert:hover {\n",
              "      background-color: #434B5C;\n",
              "      box-shadow: 0px 1px 3px 1px rgba(0, 0, 0, 0.15);\n",
              "      filter: drop-shadow(0px 1px 2px rgba(0, 0, 0, 0.3));\n",
              "      fill: #FFFFFF;\n",
              "    }\n",
              "  </style>\n",
              "\n",
              "      <script>\n",
              "        const buttonEl =\n",
              "          document.querySelector('#df-7c4b3b9b-0343-40be-a480-f4f63fdedf56 button.colab-df-convert');\n",
              "        buttonEl.style.display =\n",
              "          google.colab.kernel.accessAllowed ? 'block' : 'none';\n",
              "\n",
              "        async function convertToInteractive(key) {\n",
              "          const element = document.querySelector('#df-7c4b3b9b-0343-40be-a480-f4f63fdedf56');\n",
              "          const dataTable =\n",
              "            await google.colab.kernel.invokeFunction('convertToInteractive',\n",
              "                                                     [key], {});\n",
              "          if (!dataTable) return;\n",
              "\n",
              "          const docLinkHtml = 'Like what you see? Visit the ' +\n",
              "            '<a target=\"_blank\" href=https://colab.research.google.com/notebooks/data_table.ipynb>data table notebook</a>'\n",
              "            + ' to learn more about interactive tables.';\n",
              "          element.innerHTML = '';\n",
              "          dataTable['output_type'] = 'display_data';\n",
              "          await google.colab.output.renderOutput(dataTable, element);\n",
              "          const docLink = document.createElement('div');\n",
              "          docLink.innerHTML = docLinkHtml;\n",
              "          element.appendChild(docLink);\n",
              "        }\n",
              "      </script>\n",
              "    </div>\n",
              "  </div>\n",
              "  "
            ],
            "text/plain": [
              "   CÓDIGO ÓRGÃO SUPERIOR  ... VALOR TRANSAÇÃO\n",
              "0                  63000  ...          670.00\n",
              "1                  63000  ...          200.42\n",
              "2                  63000  ...          632.00\n",
              "3                  63000  ...          250.00\n",
              "4                  63000  ...           48.50\n",
              "\n",
              "[5 rows x 15 columns]"
            ]
          },
          "metadata": {},
          "execution_count": 13
        }
      ]
    },
    {
      "cell_type": "code",
      "source": [
        "valor_total = sttmov['VALOR TRANSAÇÃO'].sum()\n",
        "print(valor_total)"
      ],
      "metadata": {
        "id": "3490llXqpV_A",
        "colab": {
          "base_uri": "https://localhost:8080/"
        },
        "outputId": "a2154dac-d5a5-497a-8b64-8fa194fea90a"
      },
      "execution_count": null,
      "outputs": [
        {
          "output_type": "stream",
          "name": "stdout",
          "text": [
            "5619007.95\n"
          ]
        }
      ]
    },
    {
      "cell_type": "markdown",
      "source": [
        "#acima é o resultado da soma total das movimentações "
      ],
      "metadata": {
        "id": "1eof5v2tP2hG"
      }
    },
    {
      "cell_type": "code",
      "source": [
        "sigilosos = sttmov[sttmov['TRANSAÇÃO']=='Informações protegidas por sigilo']\n",
        "soma_sigilosos =  sigilosos['VALOR TRANSAÇÃO'].sum()\n",
        "print(soma_sigilosos)"
      ],
      "metadata": {
        "id": "4p19LeDH7pna",
        "colab": {
          "base_uri": "https://localhost:8080/"
        },
        "outputId": "5af61ab4-0bb8-40cf-a1f9-372a3e21145d"
      },
      "execution_count": null,
      "outputs": [
        {
          "output_type": "stream",
          "name": "stdout",
          "text": [
            "3108731.15\n"
          ]
        }
      ]
    },
    {
      "cell_type": "code",
      "source": [
        "\n",
        "maior_valor = sigilosos.groupby(['NOME ÓRGÃO'])['VALOR TRANSAÇÃO'].sum().sort_values(ascending=False).head(1)\n",
        "print(maior_valor)"
      ],
      "metadata": {
        "id": "pujn2xz_B5g-",
        "outputId": "a7b2b9e8-e575-46f9-b336-4760a8c08ed8",
        "colab": {
          "base_uri": "https://localhost:8080/"
        }
      },
      "execution_count": null,
      "outputs": [
        {
          "output_type": "stream",
          "name": "stdout",
          "text": [
            "NOME ÓRGÃO\n",
            "Presidência da República    1699751.04\n",
            "Name: VALOR TRANSAÇÃO, dtype: float64\n"
          ]
        }
      ]
    },
    {
      "cell_type": "code",
      "source": [
        "saques = sttmov[(sttmov['TRANSAÇÃO'] == 'SAQUE - INT$ - APRES')|(sttmov['TRANSAÇÃO'] == 'SAQUE CASH/ATM BB')]\n",
        "\n",
        "mais_saques = saques.groupby(['NOME PORTADOR'])['VALOR TRANSAÇÃO'].sum().sort_values(ascending = False).head(1)\n",
        "print(mais_saques)"
      ],
      "metadata": {
        "colab": {
          "base_uri": "https://localhost:8080/"
        },
        "id": "S7uwOo9V8ryZ",
        "outputId": "7fa4e931-c624-44d7-ec43-a25fd4b54fed"
      },
      "execution_count": null,
      "outputs": [
        {
          "output_type": "stream",
          "name": "stdout",
          "text": [
            "NOME PORTADOR\n",
            "RAFAEL FERREIRA COSTA    24520.0\n",
            "Name: VALOR TRANSAÇÃO, dtype: float64\n"
          ]
        }
      ]
    },
    {
      "cell_type": "code",
      "source": [
        ""
      ],
      "metadata": {
        "id": "ozLkS5j69JO1"
      },
      "execution_count": null,
      "outputs": []
    }
  ]
}